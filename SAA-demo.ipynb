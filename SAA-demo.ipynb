{
 "cells": [
  {
   "cell_type": "markdown",
   "id": "853e7872",
   "metadata": {},
   "source": [
    "# 0. Setup paths"
   ]
  },
  {
   "cell_type": "code",
   "execution_count": 1,
   "id": "734cfe34",
   "metadata": {},
   "outputs": [],
   "source": [
    "import os\n",
    "\n",
    "#CUSTOM_MODEL_NAME = 'my_ssd_mobnet'  # If further training of model is done\n",
    "MODEL_DATE = '20200711'\n",
    "MODEL_NAME = 'ssd_mobilenet_v2_fpnlite_320x320_coco17_tpu-8'\n",
    "MODEL_TAR_FILENAME = MODEL_NAME + '.tar.gz'\n",
    "MODELS_DOWNLOAD_BASE = 'http://download.tensorflow.org/models/object_detection/tf2/'\n",
    "MODEL_DOWNLOAD_LINK = MODELS_DOWNLOAD_BASE + MODEL_DATE + '/' + MODEL_TAR_FILENAME\n",
    "\n",
    "# Workspace paths to setup directory\n",
    "paths = {\n",
    "    'WORKSPACE_PATH': os.path.join('Tensorflow', 'workspace'),\n",
    "    'SCRIPTS_PATH': os.path.join('Tensorflow','scripts'),\n",
    "    'APIMODEL_PATH': os.path.join('Tensorflow','models'),\n",
    "    'ANNOTATION_PATH': os.path.join('Tensorflow', 'workspace','annotations'),\n",
    "    'IMAGE_PATH': os.path.join('Tensorflow', 'workspace','images'),\n",
    "    'ADV_PATH': os.path.join('Tensorflow', 'workspace','images', 'adversarial-examples'),\n",
    "    'MODEL_PATH': os.path.join('Tensorflow', 'workspace','pre-trained-models'),\n",
    "}\n",
    "\n",
    "# Model-specific paths\n",
    "PATH_TO_MODEL_TAR = os.path.join(paths['MODEL_PATH'], MODEL_TAR_FILENAME)\n",
    "PATH_TO_CKPT = os.path.join(paths['MODEL_PATH'], os.path.join(MODEL_NAME, 'checkpoint/'))\n",
    "PATH_TO_CFG = os.path.join(paths['MODEL_PATH'], os.path.join(MODEL_NAME, 'pipeline.config'))\n"
   ]
  },
  {
   "cell_type": "code",
   "execution_count": 2,
   "id": "bc74ecdd",
   "metadata": {},
   "outputs": [],
   "source": [
    "import urllib.request\n",
    "\n",
    "# Download labels file\n",
    "LABEL_FILENAME = 'mscoco_label_map.pbtxt'\n",
    "LABELS_DOWNLOAD_BASE = \\\n",
    "    'https://raw.githubusercontent.com/tensorflow/models/master/research/object_detection/data/'\n",
    "PATH_TO_LABELS = os.path.join(paths['MODEL_PATH'], os.path.join(MODEL_NAME, LABEL_FILENAME))\n",
    "if not os.path.exists(PATH_TO_LABELS):\n",
    "    print('Downloading label file... ', end='')\n",
    "    urllib.request.urlretrieve(LABELS_DOWNLOAD_BASE + LABEL_FILENAME, PATH_TO_LABELS)\n",
    "    print('Done')"
   ]
  },
  {
   "cell_type": "code",
   "execution_count": 3,
   "id": "380d9fd1",
   "metadata": {},
   "outputs": [],
   "source": [
    "# Creates paths from path variable\n",
    "for path in paths.values():\n",
    "    if not os.path.exists(path):\n",
    "        if os.name == 'posix':\n",
    "            !mkdir -p {path}\n",
    "        if os.name == 'nt':\n",
    "            !mkdir {path}"
   ]
  },
  {
   "cell_type": "markdown",
   "id": "b7b9b95b",
   "metadata": {},
   "source": [
    "# 1. Dataset"
   ]
  },
  {
   "cell_type": "code",
   "execution_count": null,
   "id": "ad892122",
   "metadata": {
    "scrolled": false
   },
   "outputs": [],
   "source": [
    "!pip install --upgrade pip setuptools wheel --user\n",
    "!pip install fiftyone[desktop] --user\n",
    "!pip install pycocotools"
   ]
  },
  {
   "cell_type": "code",
   "execution_count": 4,
   "id": "686babbf",
   "metadata": {
    "scrolled": false
   },
   "outputs": [],
   "source": [
    "import fiftyone as fo\n",
    "import fiftyone.zoo as foz"
   ]
  },
  {
   "cell_type": "code",
   "execution_count": 1,
   "id": "04ce4dd1",
   "metadata": {},
   "outputs": [
    {
     "ename": "NameError",
     "evalue": "name 'foz' is not defined",
     "output_type": "error",
     "traceback": [
      "\u001b[1;31m---------------------------------------------------------------------------\u001b[0m",
      "\u001b[1;31mNameError\u001b[0m                                 Traceback (most recent call last)",
      "\u001b[1;32m<ipython-input-1-16ae93ee39d4>\u001b[0m in \u001b[0;36m<module>\u001b[1;34m\u001b[0m\n\u001b[0;32m      1\u001b[0m \u001b[1;31m# Check that FiftyOne is correctly installed\u001b[0m\u001b[1;33m\u001b[0m\u001b[1;33m\u001b[0m\u001b[1;33m\u001b[0m\u001b[0m\n\u001b[1;32m----> 2\u001b[1;33m dataset = foz.load_zoo_dataset(\n\u001b[0m\u001b[0;32m      3\u001b[0m     \u001b[1;34m\"quickstart\"\u001b[0m\u001b[1;33m,\u001b[0m\u001b[1;33m\u001b[0m\u001b[1;33m\u001b[0m\u001b[0m\n\u001b[0;32m      4\u001b[0m     \u001b[0mdataset_dir\u001b[0m\u001b[1;33m=\u001b[0m\u001b[0mpaths\u001b[0m\u001b[1;33m[\u001b[0m\u001b[1;34m\"IMAGE_PATH\"\u001b[0m\u001b[1;33m]\u001b[0m \u001b[1;33m+\u001b[0m \u001b[1;34m\"quickstart\"\u001b[0m\u001b[1;33m\u001b[0m\u001b[1;33m\u001b[0m\u001b[0m\n\u001b[0;32m      5\u001b[0m )\n",
      "\u001b[1;31mNameError\u001b[0m: name 'foz' is not defined"
     ]
    }
   ],
   "source": [
    "# Check that FiftyOne is correctly installed\n",
    "dataset = foz.load_zoo_dataset(\n",
    "    \"quickstart\",\n",
    "    dataset_dir=paths[\"IMAGE_PATH\"] + \"quickstart\"\n",
    ")\n",
    "session = fo.launch_app(dataset)\n",
    "fo.launch_app(dataset, desktop=True)"
   ]
  },
  {
   "cell_type": "code",
   "execution_count": null,
   "id": "463d4691",
   "metadata": {
    "scrolled": true
   },
   "outputs": [],
   "source": [
    "# NB! This downloads entire dataset, approx 144Gb\n",
    "dataset = fiftyone.zoo.load_zoo_dataset(\"coco-2017\")"
   ]
  },
  {
   "cell_type": "code",
   "execution_count": 5,
   "id": "7527899f",
   "metadata": {
    "scrolled": false
   },
   "outputs": [],
   "source": [
    "# fiftyone.zoo.list_zoo_datasets() # List available datasets from fiftyone\n",
    "FO_DATASET_NAME = \"coco-2017\"\n",
    "MAX_SAMPLES = 10\n",
    "SPLITS = [\"train\", \"validation\", \"test\"]"
   ]
  },
  {
   "cell_type": "code",
   "execution_count": null,
   "id": "cd8e7e6a",
   "metadata": {},
   "outputs": [],
   "source": [
    "dataset = foz.load_zoo_dataset(\n",
    "    FO_DATASET_NAME,\n",
    "    splits=SPLITS,  \n",
    "    label_types=[\"detections\", \"segmentations\"],\n",
    "    classes=[\"person\", \"car\"],\n",
    "    max_samples=MAX_SAMPLES,\n",
    "    dataset_dir=paths[\"IMAGE_PATH\"] + \"/\" + FO_DATASET_NAME,\n",
    "    cleanup=True\n",
    ")"
   ]
  },
  {
   "cell_type": "code",
   "execution_count": null,
   "id": "1881c939",
   "metadata": {
    "scrolled": true
   },
   "outputs": [],
   "source": [
    "# Visualize the dataset in the FiftyOne App\n",
    "session = fiftyone.launch_app(dataset, desktop=False)"
   ]
  },
  {
   "cell_type": "markdown",
   "id": "03edaf7f",
   "metadata": {},
   "source": [
    "# 2. Model"
   ]
  },
  {
   "cell_type": "markdown",
   "id": "2a05ba5d",
   "metadata": {},
   "source": [
    "Download pretrained models\n",
    "\n",
    "Tensorflow model zoo: https://github.com/tensorflow/models/blob/master/research/object_detection/g3doc/tf2_detection_zoo.md"
   ]
  },
  {
   "cell_type": "markdown",
   "id": "f28ad6b8",
   "metadata": {},
   "source": [
    "## Download Pretrained models"
   ]
  },
  {
   "cell_type": "code",
   "execution_count": null,
   "id": "fbdcb40f",
   "metadata": {
    "scrolled": true
   },
   "outputs": [],
   "source": [
    "if os.name=='nt':\n",
    "    !pip install wget\n",
    "    # Might need restart of computer for installation to register\n",
    "    import wget      "
   ]
  },
  {
   "cell_type": "code",
   "execution_count": null,
   "id": "3fe2e1c4",
   "metadata": {
    "scrolled": true
   },
   "outputs": [],
   "source": [
    "if not os.path.exists(os.path.join(paths['APIMODEL_PATH'], 'research', 'object_detection')):\n",
    "    !git clone https://github.com/tensorflow/models {paths['APIMODEL_PATH']}"
   ]
  },
  {
   "cell_type": "markdown",
   "id": "11d738a2",
   "metadata": {},
   "source": [
    "## Install Tensorflow Object Detection"
   ]
  },
  {
   "cell_type": "code",
   "execution_count": null,
   "id": "09621b24",
   "metadata": {},
   "outputs": [],
   "source": [
    "# Install Tensorflow Object Detection \n",
    "if os.name=='posix':  \n",
    "    !apt-get install protobuf-compiler\n",
    "    !cd Tensorflow/models/research && protoc object_detection/protos/*.proto --python_out=. && cp object_detection/packages/tf2/setup.py . && python -m pip install . \n",
    "    \n",
    "if os.name=='nt':\n",
    "    url=\"https://github.com/protocolbuffers/protobuf/releases/download/v3.15.6/protoc-3.15.6-win64.zip\"\n",
    "    wget.download(url)\n",
    "    !move protoc-3.15.6-win64.zip {paths['PROTOC_PATH']}\n",
    "    !cd {paths['PROTOC_PATH']} && tar -xf protoc-3.15.6-win64.zip\n",
    "    os.environ['PATH'] += os.pathsep + os.path.abspath(os.path.join(paths['PROTOC_PATH'], 'bin'))   \n",
    "    !cd Tensorflow/models/research && protoc object_detection/protos/*.proto --python_out=. && copy object_detection\\\\packages\\\\tf2\\\\setup.py setup.py && python setup.py build && python setup.py install\n",
    "    !cd Tensorflow/models/research/slim && pip install -e ."
   ]
  },
  {
   "cell_type": "markdown",
   "id": "f9d92b1f",
   "metadata": {},
   "source": [
    "### Verification script to validate TFOD installation"
   ]
  },
  {
   "cell_type": "code",
   "execution_count": null,
   "id": "7db3ed49",
   "metadata": {},
   "outputs": [],
   "source": [
    "!pip install -r requirements.txt"
   ]
  },
  {
   "cell_type": "code",
   "execution_count": null,
   "id": "13697d37",
   "metadata": {
    "scrolled": true
   },
   "outputs": [],
   "source": [
    "# Run this scripts until test says 'OK'.\n",
    "# Might need to install several pip packages along the way\n",
    "VERIFICATION_SCRIPT = os.path.join(paths['APIMODEL_PATH'], 'research', 'object_detection', 'builders', 'model_builder_tf2_test.py')\n",
    "# Verify Installation\n",
    "!python {VERIFICATION_SCRIPT}"
   ]
  },
  {
   "cell_type": "code",
   "execution_count": 6,
   "id": "97be5adc",
   "metadata": {
    "scrolled": true
   },
   "outputs": [],
   "source": [
    "import object_detection  # Might need restarting kernel"
   ]
  },
  {
   "cell_type": "markdown",
   "id": "48863fd4",
   "metadata": {},
   "source": [
    "### Download the pretrained model from Tensorflow model zoo"
   ]
  },
  {
   "cell_type": "code",
   "execution_count": null,
   "id": "edf303ce",
   "metadata": {},
   "outputs": [],
   "source": [
    "if os.name =='posix':\n",
    "    !wget {PRETRAINED_MODEL_URL}\n",
    "    !mv {PRETRAINED_MODEL_NAME+'.tar.gz'} {paths['PRETRAINED_MODEL_PATH']}\n",
    "    !cd {paths['PRETRAINED_MODEL_PATH']} && tar -zxvf {PRETRAINED_MODEL_NAME+'.tar.gz'}\n",
    "if os.name == 'nt':\n",
    "    wget.download(PRETRAINED_MODEL_URL)\n",
    "    !move {PRETRAINED_MODEL_NAME+'.tar.gz'} {paths['PRETRAINED_MODEL_PATH']}\n",
    "    !cd {paths['PRETRAINED_MODEL_PATH']} && tar -zxvf {PRETRAINED_MODEL_NAME+'.tar.gz'}"
   ]
  },
  {
   "cell_type": "code",
   "execution_count": null,
   "id": "d062f37c",
   "metadata": {},
   "outputs": [],
   "source": [
    "if os.name =='posix':\n",
    "    !cp {os.path.join(paths['PRETRAINED_MODEL_PATH'], PRETRAINED_MODEL_NAME, 'pipeline.config')} {os.path.join(paths['CHECKPOINT_PATH'])}\n",
    "if os.name == 'nt':\n",
    "    !copy {os.path.join(paths['PRETRAINED_MODEL_PATH'], PRETRAINED_MODEL_NAME, 'pipeline.config')} {os.path.join(paths['CHECKPOINT_PATH'])}"
   ]
  },
  {
   "cell_type": "markdown",
   "id": "d8e6541b",
   "metadata": {},
   "source": [
    "## Update config for transfer learning"
   ]
  },
  {
   "cell_type": "code",
   "execution_count": 7,
   "id": "5f44b20f",
   "metadata": {},
   "outputs": [
    {
     "name": "stdout",
     "output_type": "stream",
     "text": [
      "Limited tf.compat.v2.summary API due to missing TensorBoard installation.\n",
      "Limited tf.compat.v2.summary API due to missing TensorBoard installation.\n",
      "Limited tf.compat.v2.summary API due to missing TensorBoard installation.\n",
      "Limited tf.summary API due to missing TensorBoard installation.\n",
      "Limited tf.compat.v2.summary API due to missing TensorBoard installation.\n",
      "Limited tf.compat.v2.summary API due to missing TensorBoard installation.\n",
      "Limited tf.compat.v2.summary API due to missing TensorBoard installation.\n"
     ]
    }
   ],
   "source": [
    "import tensorflow as tf\n",
    "from object_detection.utils import config_util\n",
    "from object_detection.protos import pipeline_pb2\n",
    "from google.protobuf import text_format"
   ]
  },
  {
   "cell_type": "code",
   "execution_count": null,
   "id": "cfb6f81c",
   "metadata": {},
   "outputs": [],
   "source": [
    "config = config_util.get_configs_from_pipeline_file(files['PIPELINE_CONFIG'])"
   ]
  },
  {
   "cell_type": "markdown",
   "id": "49a56a8e",
   "metadata": {},
   "source": [
    "# 3. Prediction"
   ]
  },
  {
   "cell_type": "markdown",
   "id": "e7824720",
   "metadata": {},
   "source": [
    "## Load trained model"
   ]
  },
  {
   "cell_type": "code",
   "execution_count": 8,
   "id": "8655a3f1",
   "metadata": {},
   "outputs": [],
   "source": [
    "os.environ['TF_CPP_MIN_LOG_LEVEL'] = '2'    # Suppress TensorFlow logging\n",
    "import tensorflow as tf\n",
    "from object_detection.utils import label_map_util\n",
    "from object_detection.utils import config_util\n",
    "from object_detection.utils import visualization_utils as viz_utils\n",
    "from object_detection.builders import model_builder\n",
    "\n",
    "tf.get_logger().setLevel('ERROR')           # Suppress TensorFlow logging (2)\n",
    "\n",
    "# Load pipeline config and build a detection model\n",
    "configs = config_util.get_configs_from_pipeline_file(PATH_TO_CFG)\n",
    "model_config = configs['model']\n",
    "detection_model = model_builder.build(model_config=model_config, is_training=False)\n",
    "\n",
    "# Restore checkpoint\n",
    "ckpt = tf.compat.v2.train.Checkpoint(model=detection_model)\n",
    "ckpt.restore(os.path.join(PATH_TO_CKPT, 'ckpt-0')).expect_partial()\n",
    "\n",
    "@tf.function\n",
    "def detect_fn(image):\n",
    "    \"\"\"Detect objects in image.\"\"\"\n",
    "\n",
    "    image, shapes = detection_model.preprocess(image)\n",
    "    prediction_dict = detection_model.predict(image, shapes)\n",
    "    detections = detection_model.postprocess(prediction_dict, shapes)\n",
    "\n",
    "    return detections, prediction_dict, tf.reshape(shapes, [-1])"
   ]
  },
  {
   "cell_type": "markdown",
   "id": "0f2fcf9d",
   "metadata": {},
   "source": [
    "## Run prediction on image"
   ]
  },
  {
   "cell_type": "code",
   "execution_count": 9,
   "id": "acb1eed1",
   "metadata": {},
   "outputs": [],
   "source": [
    "import cv2 \n",
    "import numpy as np\n",
    "from matplotlib import pyplot as plt\n",
    "%matplotlib inline"
   ]
  },
  {
   "cell_type": "code",
   "execution_count": 10,
   "id": "c829e02a",
   "metadata": {},
   "outputs": [],
   "source": [
    "category_index = label_map_util.create_category_index_from_labelmap(PATH_TO_LABELS,\n",
    "                                                                    use_display_name=True)"
   ]
  },
  {
   "cell_type": "code",
   "execution_count": 11,
   "id": "92f2124c",
   "metadata": {},
   "outputs": [],
   "source": [
    "# Image to predict and display\n",
    "IMAGE_PATH = os.path.join(paths['IMAGE_PATH'], FO_DATASET_NAME, 'validation/data')\n",
    "IMAGE_NAME = os.listdir(IMAGE_PATH)[2]\n",
    "IMAGE_PATH = IMAGE_PATH + \"/\" + IMAGE_NAME"
   ]
  },
  {
   "cell_type": "code",
   "execution_count": 13,
   "id": "fd7594a2",
   "metadata": {},
   "outputs": [
    {
     "data": {
      "image/png": "[encoded data removed]",
      "text/plain": [
       "<Figure size 432x288 with 1 Axes>"
      ]
     },
     "metadata": {
      "needs_background": "light"
     },
     "output_type": "display_data"
    }
   ],
   "source": [
    "from utils.misc import load_image_into_numpy_array\n",
    "\n",
    "image_np = load_image_into_numpy_array(IMAGE_PATH)\n",
    "\n",
    "# Visualization params\n",
    "MAX_BBOXES = 200\n",
    "THRESHOLD = 0.3\n",
    "\n",
    "# Alter image\n",
    "# Flip horizontally\n",
    "#image_np = np.fliplr(image_np).copy()\n",
    "# Convert image to grayscale\n",
    "#image_np = np.tile(np.mean(image_np, 2, keepdims=True), (1, 1, 3)).astype(np.uint8)\n",
    "\n",
    "input_tensor = tf.convert_to_tensor(np.expand_dims(image_np, 0), dtype=tf.float32)\n",
    "detections, predictions_dict, shapes = detect_fn(input_tensor)\n",
    "\n",
    "num_detections = int(detections.pop('num_detections'))\n",
    "detections = {key: value[0, :num_detections].numpy()\n",
    "              for key, value in detections.items()}\n",
    "detections['num_detections'] = num_detections\n",
    "\n",
    "# detection_classes should be ints.\n",
    "detections['detection_classes'] = detections['detection_classes'].astype(np.int64)\n",
    "\n",
    "label_id_offset = 1\n",
    "image_np_with_detections = image_np.copy()\n",
    "\n",
    "viz_utils.visualize_boxes_and_labels_on_image_array(\n",
    "            image_np_with_detections,\n",
    "            detections['detection_boxes'],\n",
    "            detections['detection_classes']+label_id_offset,\n",
    "            detections['detection_scores'],\n",
    "            category_index,\n",
    "            use_normalized_coordinates=True,\n",
    "            max_boxes_to_draw=MAX_BBOXES,\n",
    "            min_score_thresh=THRESHOLD,\n",
    "            agnostic_mode=False)\n",
    "plt.figure()\n",
    "plt.title(\"Benign example\")\n",
    "plt.imshow(image_np_with_detections)\n",
    "plt.show()"
   ]
  },
  {
   "cell_type": "markdown",
   "id": "92abaccc",
   "metadata": {},
   "source": [
    "# 4. Generate adversarial example"
   ]
  },
  {
   "cell_type": "markdown",
   "id": "f012208b",
   "metadata": {},
   "source": [
    "## Sparse-Adversarial-Attack"
   ]
  },
  {
   "cell_type": "code",
   "execution_count": 5,
   "id": "68dbb59d",
   "metadata": {},
   "outputs": [
    {
     "name": "stderr",
     "output_type": "stream",
     "text": [
      "\n",
      "Usage:   \n",
      "  pip install [options] <requirement specifier> [package-index-options] ...\n",
      "  pip install [options] -r <requirements file> [package-index-options] ...\n",
      "  pip install [options] [-e] <vcs project url> ...\n",
      "  pip install [options] [-e] <local project path> ...\n",
      "  pip install [options] <archive url/path> ...\n",
      "\n",
      "no such option: -y\n",
      "Traceback (most recent call last):\n",
      "  File \"Tianchi04/eval.py\", line 11, in <module>\n",
      "    from infer import infer\n",
      "  File \"C:\\Users\\marius\\Documents\\ntnu\\specialization project\\ae-attack-pipeline\\Tianchi04\\infer.py\", line 8, in <module>\n",
      "    from mmdet import __version__\n",
      "  File \"C:\\ProgramData\\Anaconda3\\lib\\site-packages\\mmdet\\__init__.py\", line 2, in <module>\n",
      "    import mmcv\n",
      "ModuleNotFoundError: No module named 'mmcv'\n"
     ]
    }
   ],
   "source": [
    "#import Tianchi04 as SAA\n",
    "!pip install -r Tianchi04/requirements.txt -y\n",
    "!python Tianchi04/eval.py"
   ]
  },
  {
   "cell_type": "markdown",
   "id": "b42dea9b",
   "metadata": {},
   "source": [
    "# 5. Attack"
   ]
  },
  {
   "cell_type": "code",
   "execution_count": null,
   "id": "fc607997",
   "metadata": {},
   "outputs": [],
   "source": [
    "# Image to predict and display\n",
    "ATTACK_EPS = 0.15  # Used to determine image in attack\n",
    "ADV_NAME = IMAGE_NAME.split(\".\")[0] + \"-\" + str(ATTACK_EPS) + \".png\"\n",
    "ADV_PATH = os.path.join(paths['ADV_PATH'], ADV_NAME)"
   ]
  },
  {
   "cell_type": "code",
   "execution_count": null,
   "id": "ccdfd75b",
   "metadata": {},
   "outputs": [],
   "source": [
    "from utils.misc import load_image_into_numpy_array\n",
    "\n",
    "adv_np = load_image_into_numpy_array(ADV_PATH)\n",
    "\n",
    "# Visualization params\n",
    "MAX_BBOXES = 200\n",
    "THRESHOLD = 0.3\n",
    "\n",
    "input_tensor = tf.convert_to_tensor(np.expand_dims(adv_np, 0), dtype=tf.float32)\n",
    "detections, predictions_dict, shapes = detect_fn(input_tensor)\n",
    "\n",
    "num_detections = int(detections.pop('num_detections'))\n",
    "detections = {key: value[0, :num_detections].numpy()\n",
    "              for key, value in detections.items()}\n",
    "detections['num_detections'] = num_detections\n",
    "\n",
    "# detection_classes should be ints.\n",
    "detections['detection_classes'] = detections['detection_classes'].astype(np.int64)\n",
    "\n",
    "label_id_offset = 1\n",
    "adv_np_with_detections = adv_np.copy()\n",
    "viz_utils.visualize_boxes_and_labels_on_image_array(\n",
    "            adv_np_with_detections,\n",
    "            detections['detection_boxes'],\n",
    "            detections['detection_classes']+label_id_offset,\n",
    "            detections['detection_scores'],\n",
    "            category_index,\n",
    "            use_normalized_coordinates=True,\n",
    "            max_boxes_to_draw=MAX_BBOXES,\n",
    "            min_score_thresh=THRESHOLD,\n",
    "            agnostic_mode=False)\n",
    "plt.figure()\n",
    "plt.imshow(adv_np_with_detections)\n",
    "plt.title(\"Adversarial example with epsilon = {}\".format(ATTACK_EPS))\n",
    "plt.show()\n",
    "plt.imshow(image_np_with_detections)\n",
    "plt.title(\"Original image\")\n",
    "plt.show()"
   ]
  },
  {
   "cell_type": "code",
   "execution_count": null,
   "id": "afc48b09",
   "metadata": {},
   "outputs": [],
   "source": []
  }
 ],
 "metadata": {
  "kernelspec": {
   "display_name": "project",
   "language": "python",
   "name": "project"
  },
  "language_info": {
   "codemirror_mode": {
    "name": "ipython",
    "version": 3
   },
   "file_extension": ".py",
   "mimetype": "text/x-python",
   "name": "python",
   "nbconvert_exporter": "python",
   "pygments_lexer": "ipython3",
   "version": "3.8.8"
  }
 },
 "nbformat": 4,
 "nbformat_minor": 5
}
